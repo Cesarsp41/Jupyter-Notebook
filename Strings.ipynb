{
  "metadata": {
    "kernelspec": {
      "name": "python",
      "display_name": "Python (Pyodide)",
      "language": "python"
    },
    "language_info": {
      "codemirror_mode": {
        "name": "python",
        "version": 3
      },
      "file_extension": ".py",
      "mimetype": "text/x-python",
      "name": "python",
      "nbconvert_exporter": "python",
      "pygments_lexer": "ipython3",
      "version": "3.8"
    }
  },
  "nbformat_minor": 5,
  "nbformat": 4,
  "cells": [
    {
      "id": "991bfe67-7124-4741-83e3-2c666ac5607c",
      "cell_type": "markdown",
      "source": "## Strings: Recap\nStrings are immutable sequences of characters.",
      "metadata": {}
    },
    {
      "id": "994a313a-9d83-4598-918a-a5b0b840a1fc",
      "cell_type": "markdown",
      "source": "### Declaration",
      "metadata": {}
    },
    {
      "id": "0461f57b-9b1c-4b40-979f-03760c71461f",
      "cell_type": "code",
      "source": "name = 'Cesar Soltero' # Single quotes\nname = \"Cesar Soltero\" # Double quotes",
      "metadata": {
        "trusted": true
      },
      "outputs": [],
      "execution_count": 1
    },
    {
      "id": "56adf602-0bb7-4a56-a666-003e4a423307",
      "cell_type": "markdown",
      "source": "### Index access allowed",
      "metadata": {}
    },
    {
      "id": "749b71e7-a811-4f34-867c-f759774218f8",
      "cell_type": "code",
      "source": "print(name[0])\nprint(name[-1]) # Negative index support, for last element.",
      "metadata": {
        "trusted": true
      },
      "outputs": [
        {
          "name": "stdout",
          "output_type": "stream",
          "text": "C\no\n"
        }
      ],
      "execution_count": 2
    },
    {
      "id": "b10f1628-4681-48dc-b651-e55832d60078",
      "cell_type": "markdown",
      "source": "### Length",
      "metadata": {}
    },
    {
      "id": "7e0b7684-642f-4895-ad73-151a87c8ae7c",
      "cell_type": "code",
      "source": "len(name) # Standard len method works on different data structures.",
      "metadata": {
        "trusted": true
      },
      "outputs": [
        {
          "execution_count": 3,
          "output_type": "execute_result",
          "data": {
            "text/plain": "13"
          },
          "metadata": {}
        }
      ],
      "execution_count": 3
    },
    {
      "id": "970c3059-8bbb-4db6-ad83-d6e74d7694b3",
      "cell_type": "markdown",
      "source": "### Slicing\nTakes portions of a particular string",
      "metadata": {}
    },
    {
      "id": "f02d98eb-81a9-4bce-a532-e09781762fc5",
      "cell_type": "code",
      "source": "print(name[0:4]) \nprint(name[3:10])\nprint(name[::2]) # Start: Finish: Step",
      "metadata": {
        "trusted": true
      },
      "outputs": [
        {
          "name": "stdout",
          "output_type": "stream",
          "text": "Cesa\nar Solt\nCsrSleo\n"
        }
      ],
      "execution_count": 4
    },
    {
      "id": "e8eab41c-d4e7-4735-b6e1-1e86e63305c5",
      "cell_type": "markdown",
      "source": "### Concatenation",
      "metadata": {}
    },
    {
      "id": "d36a3127-8109-4b1c-be10-c84917197ecf",
      "cell_type": "code",
      "source": "name = \"Cesar\"\nlastName = \"Soltero\"\nfullName = name + ' ' + lastName\nprint(fullName)",
      "metadata": {
        "trusted": true
      },
      "outputs": [
        {
          "name": "stdout",
          "output_type": "stream",
          "text": "Cesar Soltero\n"
        }
      ],
      "execution_count": 5
    },
    {
      "id": "5f2353ec-0078-4b21-9275-239d9b0c0a05",
      "cell_type": "markdown",
      "source": "### Escape sequences\n| Escape sequence | Meaning |\n| --------------- | ------- |\n| \\n | New line |\n| \\t | Tab |\n| \\' | Single quote |\n| \\\" | Double quote |\n| \\\\ | Back Slash |\n\nOr simply add an **r** before the string to make it a **raw** string",
      "metadata": {}
    },
    {
      "id": "78bd94cf-c802-4707-9160-bb5c3a95a055",
      "cell_type": "code",
      "source": "print(r\"C:\\Cesar\\Code\\Python\")",
      "metadata": {
        "trusted": true
      },
      "outputs": [
        {
          "name": "stdout",
          "output_type": "stream",
          "text": "C:\\Cesar\\Code\\Python\n"
        }
      ],
      "execution_count": 6
    },
    {
      "id": "b8cf96a9-bb62-4be3-bd2c-fc2bc5eee123",
      "cell_type": "markdown",
      "source": "### Common Methods",
      "metadata": {}
    },
    {
      "id": "ba2b1974-4786-4d2b-958b-fbcf662d4e5d",
      "cell_type": "code",
      "source": "print(fullName.upper())\nprint(fullName.lower())\nprint(fullName.replace(\" \", 'x'))\nprint(fullName.find('a'))",
      "metadata": {
        "trusted": true
      },
      "outputs": [
        {
          "name": "stdout",
          "output_type": "stream",
          "text": "CESAR SOLTERO\ncesar soltero\nCesarxSoltero\n3\n"
        }
      ],
      "execution_count": 7
    },
    {
      "id": "ea0067b0-e4be-4acf-b50a-6dbd14de3a1b",
      "cell_type": "markdown",
      "source": "### Formatted Strings",
      "metadata": {}
    },
    {
      "id": "a6ce6615-3efe-497d-93ba-db3569912252",
      "cell_type": "code",
      "source": "number = 1\nprint(f\"This is {number} formatted string\")",
      "metadata": {
        "trusted": true
      },
      "outputs": [
        {
          "name": "stdout",
          "output_type": "stream",
          "text": "This is 1 formatted string\n"
        }
      ],
      "execution_count": 8
    },
    {
      "id": "f111c09a-2e0a-4734-8f09-0340b55d66cd",
      "cell_type": "markdown",
      "source": "### RegEx\nIt needs a special library",
      "metadata": {}
    },
    {
      "id": "e9cb5921-7f23-43da-8e67-b04d770c851b",
      "cell_type": "code",
      "source": "import re",
      "metadata": {
        "trusted": true
      },
      "outputs": [],
      "execution_count": 9
    },
    {
      "id": "c6b1ccb9-8b4f-412d-854a-89591c28c71c",
      "cell_type": "markdown",
      "source": "| Regex | Meaning |\n| ----- | ------- |\n| \\d | Digit [0-9] |\n| \\w | Word [a-z, A-Z, 0-9] |\n| \\s | Space or underscore |",
      "metadata": {}
    }
  ]
}