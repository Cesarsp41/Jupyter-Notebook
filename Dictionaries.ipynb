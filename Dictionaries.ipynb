{
  "metadata": {
    "kernelspec": {
      "name": "python",
      "display_name": "Python (Pyodide)",
      "language": "python"
    },
    "language_info": {
      "codemirror_mode": {
        "name": "python",
        "version": 3
      },
      "file_extension": ".py",
      "mimetype": "text/x-python",
      "name": "python",
      "nbconvert_exporter": "python",
      "pygments_lexer": "ipython3",
      "version": "3.8"
    }
  },
  "nbformat_minor": 5,
  "nbformat": 4,
  "cells": [
    {
      "id": "ac18fd94-30a0-4c4d-9dec-c2f8de7f535d",
      "cell_type": "markdown",
      "source": "### Dictionaries\nA dictionary is a collection of elements with the estructure [key] : [value]. You need to use the **key** to access a specific **value**. **Keys** are **immutable** and **values** can be anything.",
      "metadata": {}
    },
    {
      "id": "f5fcdbd1-cf6d-45bf-a13d-58c009f30542",
      "cell_type": "code",
      "source": "myDictionary = {'facebook': 0, \"instagram\": 7, \"x\" : 0, \"messenger\" : 1, \"whatsapp\" : 16}\nprint(myDictionary[\"instagram\"])",
      "metadata": {
        "trusted": true
      },
      "outputs": [
        {
          "name": "stdout",
          "output_type": "stream",
          "text": "7\n"
        }
      ],
      "execution_count": 1
    },
    {
      "id": "41c99bcd-cf33-4dc8-a64d-a88b3069f17a",
      "cell_type": "markdown",
      "source": "#### Add a new element \nIf we want to add a new element we just need to enter the name of the key and the value associated to it.",
      "metadata": {}
    },
    {
      "id": "1f5c00af-a465-404a-93bf-848d029907ae",
      "cell_type": "code",
      "source": "myDictionary['linkedin'] = 6\nprint(myDictionary)",
      "metadata": {
        "trusted": true
      },
      "outputs": [
        {
          "name": "stdout",
          "output_type": "stream",
          "text": "{'facebook': 0, 'instagram': 7, 'x': 0, 'messenger': 1, 'whatsapp': 16, 'linkedin': 6}\n"
        }
      ],
      "execution_count": 2
    },
    {
      "id": "a32e19c8-b546-4880-b93f-e45dd7212c27",
      "cell_type": "markdown",
      "source": "#### Delete an element",
      "metadata": {}
    },
    {
      "id": "0a577fac-f6b8-4ad8-97b9-ba1eda11f1bc",
      "cell_type": "code",
      "source": "del(myDictionary['linkedin'])\nprint(myDictionary)",
      "metadata": {
        "trusted": true
      },
      "outputs": [
        {
          "name": "stdout",
          "output_type": "stream",
          "text": "{'facebook': 0, 'instagram': 7, 'x': 0, 'messenger': 1, 'whatsapp': 16}\n"
        }
      ],
      "execution_count": 3
    },
    {
      "id": "e1d36d1d-6754-431e-86b4-21e63b224b51",
      "cell_type": "markdown",
      "source": "#### Check if an element is inside a dictionary",
      "metadata": {}
    },
    {
      "id": "af0bf4d1-d297-4931-ae9e-7fbef34f5d6d",
      "cell_type": "code",
      "source": "print(\"facebook\" in myDictionary)",
      "metadata": {
        "trusted": true
      },
      "outputs": [
        {
          "name": "stdout",
          "output_type": "stream",
          "text": "True\n"
        }
      ],
      "execution_count": 4
    },
    {
      "id": "85faff1c-6843-4b04-a315-c760a0967e3a",
      "cell_type": "markdown",
      "source": "#### Print specific information of the dictionary",
      "metadata": {}
    },
    {
      "id": "9091b482-0f32-4b21-ad1d-702a6e6e6287",
      "cell_type": "code",
      "source": "print(myDictionary.keys())\nprint(myDictionary.values())",
      "metadata": {
        "trusted": true
      },
      "outputs": [
        {
          "name": "stdout",
          "output_type": "stream",
          "text": "dict_keys(['facebook', 'instagram', 'x', 'messenger', 'whatsapp'])\ndict_values([0, 7, 0, 1, 16])\n"
        }
      ],
      "execution_count": 6
    }
  ]
}