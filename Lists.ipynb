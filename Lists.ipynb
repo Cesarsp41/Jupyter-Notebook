{
  "metadata": {
    "kernelspec": {
      "name": "python",
      "display_name": "Python (Pyodide)",
      "language": "python"
    },
    "language_info": {
      "codemirror_mode": {
        "name": "python",
        "version": 3
      },
      "file_extension": ".py",
      "mimetype": "text/x-python",
      "name": "python",
      "nbconvert_exporter": "python",
      "pygments_lexer": "ipython3",
      "version": "3.8"
    }
  },
  "nbformat_minor": 5,
  "nbformat": 4,
  "cells": [
    {
      "id": "2177a1e5-57c4-4767-bea7-3dab2a00190b",
      "cell_type": "markdown",
      "source": "## Lists\nLists are **mutable** data structures. Can hold many values of different types, even other lists. \nLists supports index accesing, slicing, concatenation, etc.",
      "metadata": {}
    },
    {
      "id": "6af23e9e-a2f4-44e5-92fb-7b7d0b2a5f2e",
      "cell_type": "code",
      "source": "myList = ['Cesar', 'Oscar', 'Laura', 'Mely']\nprint (myList)",
      "metadata": {
        "trusted": true
      },
      "outputs": [
        {
          "name": "stdout",
          "output_type": "stream",
          "text": "['Cesar', 'Oscar', 'Laura', 'Mely']\n"
        }
      ],
      "execution_count": 1
    },
    {
      "id": "c3cad0a5-e880-426a-8fe4-ea63107df4a6",
      "cell_type": "code",
      "source": "names1 = ['Cesar', 'Diego', 'Santiago']\nnames2 = ['Eric', 'Israel']\nallNames = names1 + names2\nprint(allNames)",
      "metadata": {
        "trusted": true
      },
      "outputs": [
        {
          "name": "stdout",
          "output_type": "stream",
          "text": "['Cesar', 'Diego', 'Santiago', 'Eric', 'Israel']\n"
        }
      ],
      "execution_count": 2
    },
    {
      "id": "d109c313-7fcc-4cd8-8ae9-7d79157291fb",
      "cell_type": "markdown",
      "source": "#### Sort a list",
      "metadata": {}
    },
    {
      "id": "3ba32393-61b4-4592-8b9f-cec850a5e7f8",
      "cell_type": "code",
      "source": "sortedNames = sorted(allNames)\nprint(sortedNames)",
      "metadata": {
        "trusted": true
      },
      "outputs": [
        {
          "name": "stdout",
          "output_type": "stream",
          "text": "['Cesar', 'Diego', 'Eric', 'Israel', 'Santiago']\n"
        }
      ],
      "execution_count": 3
    },
    {
      "id": "901d81ba-8e61-46d0-8345-d6b699580a9f",
      "cell_type": "markdown",
      "source": "#### Adding and Removing elements from a list",
      "metadata": {}
    },
    {
      "id": "ae503d2d-2c0c-4e17-bef7-faa16cd9069f",
      "cell_type": "code",
      "source": "nombres = ['Cesar', 'Oscar', 'Laura', 'Mely']\nnombres.append('Friro') # Adds an element at the end of the list\ndel(nombres[-1]) # Deletes an element \nprint(nombres)",
      "metadata": {
        "trusted": true
      },
      "outputs": [
        {
          "name": "stdout",
          "output_type": "stream",
          "text": "['Cesar', 'Oscar', 'Laura', 'Mely']\n"
        }
      ],
      "execution_count": 6
    },
    {
      "id": "2cc851cb-8eb3-47a0-a781-2b4e93853174",
      "cell_type": "markdown",
      "source": "#### Convert string to list",
      "metadata": {}
    },
    {
      "id": "2b12cc05-96f6-4ad0-872d-f04c02751fce",
      "cell_type": "code",
      "source": "string = \"Cesar Soltero Perez\"\nmyList = string.split()\nprint(myList)",
      "metadata": {
        "trusted": true
      },
      "outputs": [
        {
          "name": "stdout",
          "output_type": "stream",
          "text": "['Cesar', 'Soltero', 'Perez']\n"
        }
      ],
      "execution_count": 7
    },
    {
      "id": "6064d44e-3c67-4826-af19-64e38e5cb8e8",
      "cell_type": "markdown",
      "source": "### Cloning a List",
      "metadata": {}
    },
    {
      "id": "f1e532b4-d4d9-4de9-83a2-3a3260eb195d",
      "cell_type": "code",
      "source": "a = [1,2,3,4,5,6,7,8]\nb = a[:]\nprint(b)",
      "metadata": {
        "trusted": true
      },
      "outputs": [
        {
          "name": "stdout",
          "output_type": "stream",
          "text": "[1, 2, 3, 4, 5, 6, 7, 8]\n"
        }
      ],
      "execution_count": 8
    }
  ]
}