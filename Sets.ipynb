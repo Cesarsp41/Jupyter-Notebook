{
  "metadata": {
    "kernelspec": {
      "name": "python",
      "display_name": "Python (Pyodide)",
      "language": "python"
    },
    "language_info": {
      "codemirror_mode": {
        "name": "python",
        "version": 3
      },
      "file_extension": ".py",
      "mimetype": "text/x-python",
      "name": "python",
      "nbconvert_exporter": "python",
      "pygments_lexer": "ipython3",
      "version": "3.8"
    }
  },
  "nbformat_minor": 5,
  "nbformat": 4,
  "cells": [
    {
      "id": "4fc17675-cb9d-4768-9e67-58dfe70c5ef5",
      "cell_type": "markdown",
      "source": "### Sets\nSets are a type of collection. They hold different data types, lists, tuples, dictionaries, etc.\nThey are unordered and their elements are unique (no duplicates).",
      "metadata": {}
    },
    {
      "id": "4b3c338d-162d-43dd-8c0f-f526f48475c5",
      "cell_type": "code",
      "source": "mySet = {'vainila','chocolate','mint','chocolate','lemon','oreo','strawberry'}\nprint(mySet)",
      "metadata": {
        "trusted": true
      },
      "outputs": [
        {
          "name": "stdout",
          "output_type": "stream",
          "text": "{'strawberry', 'oreo', 'mint', 'vainila', 'chocolate', 'lemon'}\n"
        }
      ],
      "execution_count": 24
    },
    {
      "id": "5fe9489d-9dc5-4559-86bb-5f75e649c1b1",
      "cell_type": "markdown",
      "source": "#### Set operations",
      "metadata": {}
    },
    {
      "id": "b35a7905-1b0a-41be-b1e6-c23cf1044c7f",
      "cell_type": "markdown",
      "source": "##### Add an element",
      "metadata": {}
    },
    {
      "id": "757d5a86-a05b-4672-ad52-a22201ffc7a2",
      "cell_type": "code",
      "source": "mySet.add('caramel')",
      "metadata": {
        "trusted": true
      },
      "outputs": [],
      "execution_count": 25
    },
    {
      "id": "ecf3328b-3c7b-44ce-810b-6bbf966154c2",
      "cell_type": "markdown",
      "source": "##### Remove an element",
      "metadata": {}
    },
    {
      "id": "55ffa283-d712-4574-b00d-97f5a6f0333e",
      "cell_type": "code",
      "source": "mySet.remove('caramel')\nprint('caramel' in mySet) # Check for an element in mySet",
      "metadata": {
        "trusted": true
      },
      "outputs": [
        {
          "name": "stdout",
          "output_type": "stream",
          "text": "False\n"
        }
      ],
      "execution_count": 26
    },
    {
      "id": "d47e0cad-0093-4f34-a164-2df01ddf1727",
      "cell_type": "markdown",
      "source": "##### Interseccion",
      "metadata": {}
    },
    {
      "id": "a25158b8-9997-4ef1-ae28-a72e470bc5ac",
      "cell_type": "code",
      "source": "mySet2 = {'pistaccio', 'chocolate', 'coconut'}\nintersection = mySet & mySet2\nprint(intersection)",
      "metadata": {
        "trusted": true
      },
      "outputs": [
        {
          "name": "stdout",
          "output_type": "stream",
          "text": "{'chocolate'}\n"
        }
      ],
      "execution_count": 27
    },
    {
      "id": "bfe6a948-f50f-44cb-99a0-65a2f7c467d6",
      "cell_type": "markdown",
      "source": "##### Union",
      "metadata": {}
    },
    {
      "id": "4eaf84af-c6b1-4ed5-96c3-0612275ec94b",
      "cell_type": "code",
      "source": "union = mySet.union(mySet2)\nprint(union)",
      "metadata": {
        "trusted": true
      },
      "outputs": [
        {
          "name": "stdout",
          "output_type": "stream",
          "text": "{'strawberry', 'oreo', 'coconut', 'mint', 'vainila', 'lemon', 'pistaccio', 'chocolate'}\n"
        }
      ],
      "execution_count": 29
    }
  ]
}