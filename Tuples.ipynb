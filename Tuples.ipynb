{
  "metadata": {
    "kernelspec": {
      "name": "python",
      "display_name": "Python (Pyodide)",
      "language": "python"
    },
    "language_info": {
      "codemirror_mode": {
        "name": "python",
        "version": 3
      },
      "file_extension": ".py",
      "mimetype": "text/x-python",
      "name": "python",
      "nbconvert_exporter": "python",
      "pygments_lexer": "ipython3",
      "version": "3.8"
    }
  },
  "nbformat_minor": 5,
  "nbformat": 4,
  "cells": [
    {
      "id": "8fb1641a-720d-4b01-833e-688a40e3defe",
      "cell_type": "markdown",
      "source": "## Tuples\nImmutable and compound data structures. \nA tuple can hold values of different types, even another tuples, not necessarily related.\nSupports index access, slicing, etc.",
      "metadata": {}
    },
    {
      "id": "a19978e1-89fb-4ed1-854f-487af22b1abb",
      "cell_type": "code",
      "source": "myTuple = (28, \"Cesar\", 178, \"Mexico\")\nprint(myTuple[:3])",
      "metadata": {
        "trusted": true
      },
      "outputs": [
        {
          "name": "stdout",
          "output_type": "stream",
          "text": "(28, 'Cesar', 178)\n"
        }
      ],
      "execution_count": 1
    },
    {
      "id": "320a0999-07f7-4182-946f-64eba3ddda59",
      "cell_type": "markdown",
      "source": "It's possible to concatenate tuples with the **+** operator.",
      "metadata": {}
    },
    {
      "id": "713ef58c-a810-4a2e-8061-548b7526fbd0",
      "cell_type": "code",
      "source": "anotherTuple = (\"Tacos\", \"Sopes\")\nnewTuple = myTuple + anotherTuple\nprint(newTuple)",
      "metadata": {
        "trusted": true
      },
      "outputs": [
        {
          "name": "stdout",
          "output_type": "stream",
          "text": "(28, 'Cesar', 178, 'Mexico', 'Tacos', 'Sopes')\n"
        }
      ],
      "execution_count": 2
    },
    {
      "id": "3afd4b14-979e-4ff8-9fed-cdab881dd640",
      "cell_type": "markdown",
      "source": "#### Sort a tuple",
      "metadata": {}
    },
    {
      "id": "7a0260d8-2ed9-4801-9d93-e86184cc25c9",
      "cell_type": "code",
      "source": "numbers = (9,5,3,10,8,9,6,2,1,2)\nsortedNumbers = sorted(numbers)\nprint(sortedNumbers)",
      "metadata": {
        "trusted": true
      },
      "outputs": [
        {
          "name": "stdout",
          "output_type": "stream",
          "text": "[1, 2, 2, 3, 5, 6, 8, 9, 9, 10]\n"
        }
      ],
      "execution_count": 4
    }
  ]
}